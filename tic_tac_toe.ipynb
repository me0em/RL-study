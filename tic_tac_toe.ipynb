{
 "cells": [
  {
   "cell_type": "markdown",
   "metadata": {},
   "source": [
    "<center>\n",
    "    <h1> Tic-Tac-Toe </h1>\n",
    "    Introduction in <i>RL</i> with the most simple game in the world\n",
    "</center> "
   ]
  },
  {
   "cell_type": "code",
   "execution_count": 1,
   "metadata": {},
   "outputs": [],
   "source": [
    "import numpy as np\n",
    "import random\n",
    "import pprint"
   ]
  },
  {
   "cell_type": "markdown",
   "metadata": {},
   "source": [
    "## #TODO:\n",
    "- написать на чистом нумпае\n",
    "- переписать на торч\n",
    "- переписать на RL over Torch"
   ]
  },
  {
   "cell_type": "markdown",
   "metadata": {},
   "source": [
    "## Utilities"
   ]
  },
  {
   "cell_type": "code",
   "execution_count": 2,
   "metadata": {},
   "outputs": [],
   "source": [
    "def unflatten_index(ind):\n",
    "    \"\"\" Map one-dimensional index\n",
    "    to corresponding 3-dimensional index\n",
    "    \"\"\"\n",
    "    return (ind // 3, ind % 3)\n",
    "\n",
    "\n",
    "def flatten(array):\n",
    "    \"\"\" Reshape n-dimensional array\n",
    "    into an one-dimensional array\n",
    "    \"\"\"\n",
    "    return array.flatten()\n",
    "\n",
    "\n",
    "def unflatten(array):\n",
    "    \"\"\" Reshape an one-dimensional array\n",
    "    into a 3-dimensional array\n",
    "    \"\"\"\n",
    "    return array.reshape([3, 3])\n",
    "\n",
    "\n",
    "def choose_random_None_element(array):\n",
    "    \"\"\" Choose random index in (3,3)-array\n",
    "    with None-element condition\n",
    "    \"\"\"\n",
    "    if len(array.shape) != 1:\n",
    "        array = flatten(array)\n",
    "        \n",
    "    index = None\n",
    "    for ind in random.sample(range(9), 9):\n",
    "        if array[ind] is None:\n",
    "            index = ind\n",
    "            break\n",
    "    return unflatten_index(index)\n",
    "\n",
    "\n",
    "def three_on_line(array):\n",
    "    \"\"\" Check if there are a three\n",
    "    True or False in one line\n",
    "    \n",
    "    Return:\n",
    "    {0: win?_bool, 1: win?_bool}\n",
    "    \"\"\"\n",
    "    if len(array.shape) == 1:\n",
    "        array = unflatten(array)\n",
    "        \n",
    "    end = {}\n",
    "        \n",
    "    end[\"vertical\"] = (\n",
    "        [np.all(env.state[:, i] == [True]*3) for i in range(3)],\n",
    "        [np.all(env.state[:, i] == [False]*3) for i in range(3)]\n",
    "    )\n",
    "    \n",
    "    end[\"horisontal\"] = (\n",
    "        [np.all(env.state[:, i] == [True]*3) for i in range(3)],\n",
    "        [np.all(env.state[:, i] == [False]*3) for i in range(3)]\n",
    "    )\n",
    "    \n",
    "    end[\"diagonal\"] = (\n",
    "        [\n",
    "            env.state[0][0] == env.state[1][1] == env.state[2][2] == True,\n",
    "            env.state[0][2] == env.state[1][1] == env.state[2][0] == True\n",
    "        ],\n",
    "        [\n",
    "            env.state[0][0] == env.state[1][1] == env.state[2][2] == False,\n",
    "            env.state[0][2] == env.state[1][1] == env.state[2][0] == False,\n",
    "        ]\n",
    "    )\n",
    "    \n",
    "    return {\n",
    "        i:\n",
    "        np.any(np.concatenate([end[\"vertical\"][i], end[\"horisontal\"][i], end[\"diagonal\"][i]]))\n",
    "        for i in (0, 1)\n",
    "    }\n",
    "\n",
    "\n",
    "def another_player(x):\n",
    "    return 1 if x==0 else 0"
   ]
  },
  {
   "cell_type": "markdown",
   "metadata": {},
   "source": [
    "## Environment"
   ]
  },
  {
   "cell_type": "code",
   "execution_count": 5,
   "metadata": {},
   "outputs": [],
   "source": [
    "class Environment:\n",
    "    def __init__(self):\n",
    "        self.state = np.full([3, 3], None)\n",
    "        \n",
    "    def feedback(self, player: int, action: tuple):\n",
    "        # if player is 0 then 'x' => True\n",
    "        self.state[action] = not bool(player)\n",
    "        \n",
    "        return self.state, self.reward(player)\n",
    "    \n",
    "    def reward(self, player):\n",
    "        is_win = three_on_line(self.state)\n",
    "        reward = {True: 1, False: -1, None: -0.1}\n",
    "        \n",
    "        if is_win[player] == True:\n",
    "            return reward[True]\n",
    "        \n",
    "        elif is_win[another_player(player)] == True:\n",
    "            return reward[False]\n",
    "        \n",
    "        else:\n",
    "            return reward[None]\n",
    "        \n",
    "    def new_game(self):\n",
    "        self.state = np.full([3, 3], None)"
   ]
  },
  {
   "cell_type": "markdown",
   "metadata": {},
   "source": [
    "## Agent"
   ]
  },
  {
   "cell_type": "code",
   "execution_count": 6,
   "metadata": {},
   "outputs": [],
   "source": [
    "class Agent:\n",
    "    def __init__(self):\n",
    "        self.player = (0, 1)[0] # 0 means player 1 means 'x'\n",
    "    \n",
    "    def choose_random_action(self, state):\n",
    "        action = choose_random_None_element(state)\n",
    "        return action"
   ]
  },
  {
   "cell_type": "markdown",
   "metadata": {},
   "source": [
    "# <center> Test </center>"
   ]
  },
  {
   "cell_type": "markdown",
   "metadata": {},
   "source": [
    "Create env and make win condition"
   ]
  },
  {
   "cell_type": "code",
   "execution_count": 7,
   "metadata": {},
   "outputs": [
    {
     "data": {
      "text/plain": [
       "array([[None, True, None],\n",
       "       [None, True, None],\n",
       "       [None, True, None]], dtype=object)"
      ]
     },
     "execution_count": 7,
     "metadata": {},
     "output_type": "execute_result"
    }
   ],
   "source": [
    "env = Environment()\n",
    "env.state[0][1] = env.state[1][1] = env.state[2][1] = True\n",
    "\n",
    "env.state"
   ]
  },
  {
   "cell_type": "markdown",
   "metadata": {},
   "source": [
    "Get reward <b>without</b> using feedback"
   ]
  },
  {
   "cell_type": "code",
   "execution_count": 10,
   "metadata": {},
   "outputs": [
    {
     "data": {
      "text/plain": [
       "1"
      ]
     },
     "execution_count": 10,
     "metadata": {},
     "output_type": "execute_result"
    }
   ],
   "source": [
    "env.reward(bot.player)"
   ]
  },
  {
   "cell_type": "markdown",
   "metadata": {},
   "source": [
    "Start a new game and do an action normally (with feedback)"
   ]
  },
  {
   "cell_type": "code",
   "execution_count": 11,
   "metadata": {},
   "outputs": [
    {
     "data": {
      "text/plain": [
       "array([[None, None, None],\n",
       "       [None, None, None],\n",
       "       [None, None, None]], dtype=object)"
      ]
     },
     "execution_count": 11,
     "metadata": {},
     "output_type": "execute_result"
    }
   ],
   "source": [
    "env.new_game()\n",
    "env.state"
   ]
  },
  {
   "cell_type": "code",
   "execution_count": 12,
   "metadata": {},
   "outputs": [],
   "source": [
    "bot = Agent()"
   ]
  },
  {
   "cell_type": "code",
   "execution_count": 13,
   "metadata": {},
   "outputs": [
    {
     "data": {
      "text/plain": [
       "(2, 1)"
      ]
     },
     "execution_count": 13,
     "metadata": {},
     "output_type": "execute_result"
    }
   ],
   "source": [
    "action = bot.choose_random_action(env.state)\n",
    "action"
   ]
  },
  {
   "cell_type": "code",
   "execution_count": 14,
   "metadata": {},
   "outputs": [],
   "source": [
    "new_state, reward = env.feedback(bot.player, action)"
   ]
  },
  {
   "cell_type": "code",
   "execution_count": 15,
   "metadata": {},
   "outputs": [
    {
     "name": "stdout",
     "output_type": "stream",
     "text": [
      "new state:\n",
      "\n",
      " [[None None None]\n",
      " [None None None]\n",
      " [None True None]]\n",
      "\n",
      "\n",
      "reward: -0.1\n"
     ]
    }
   ],
   "source": [
    "print(\"new state:\\n\\n\", new_state)\n",
    "print(\"\\n\\nreward:\", reward)"
   ]
  }
 ],
 "metadata": {
  "kernelspec": {
   "display_name": "Python 3",
   "language": "python",
   "name": "python3"
  },
  "language_info": {
   "codemirror_mode": {
    "name": "ipython",
    "version": 3
   },
   "file_extension": ".py",
   "mimetype": "text/x-python",
   "name": "python",
   "nbconvert_exporter": "python",
   "pygments_lexer": "ipython3",
   "version": "3.7.7"
  }
 },
 "nbformat": 4,
 "nbformat_minor": 4
}
